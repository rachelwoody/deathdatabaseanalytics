{
 "cells": [
  {
   "cell_type": "code",
   "execution_count": 1,
   "metadata": {
    "collapsed": false
   },
   "outputs": [
    {
     "name": "stderr",
     "output_type": "stream",
     "text": [
      "Using Theano backend.\n"
     ]
    }
   ],
   "source": [
    "\"\"\"Import neccessary applications\"\"\"\n",
    "\n",
    "# command to let jupyter plot things inline\n",
    "%matplotlib inline\n",
    "\n",
    "# Numpy is a python library for scientific computing\n",
    "import numpy as np\n",
    "# library allowing us to handle serialization in python\n",
    "import cPickle as pickle\n",
    "# library that allows us to write shell commands in python\n",
    "import os\n",
    "# library to generate plots, works as matlab, but needs to be called in the \"plt\" alias\n",
    "import matplotlib.pyplot as plt\n",
    "#csv reader for files\n",
    "import csv\n",
    "\n",
    "import keras\n",
    "from sklearn import linear_model\n",
    "from keras.models import Sequential\n",
    "from keras.layers import Dense, Activation"
   ]
  },
  {
   "cell_type": "code",
   "execution_count": 2,
   "metadata": {
    "collapsed": false,
    "scrolled": true
   },
   "outputs": [],
   "source": [
    "\"\"\"Load in data\"\"\"\n",
    "with open('Death_Data/DeathRecords_2.csv', 'rb') as csvFile:\n",
    "    death_csv = csv.reader(csvFile, delimiter=',')\n",
    "    \n",
    "    #death_csv = csv.reader(open('Death_Data/DeathRecords_classification.csv', 'rb'))\n",
    "    Xall = []\n",
    "    Yall = []\n",
    "    for element in death_csv:\n",
    "        Xall.append(element[1:32])\n",
    "        Yall.append(element[32:33])\n",
    "\n",
    "    Xall = np.array(Xall)\n",
    "    Yall = np.array(Yall)\n",
    "\n",
    "    old_Xtr = Xall[1:65000]\n",
    "    old_Ytr = Yall[1:65000]\n",
    "    old_Xte = Xall[65000:]\n",
    "    old_Yte = Yall[65000:]\n",
    "\n",
    "    Xtr = []\n",
    "    for old_r in old_Xtr:\n",
    "        r = []\n",
    "        for old_e in old_r:\n",
    "            e = int(old_e)\n",
    "            r.append(e)\n",
    "        Xtr.append(r)\n",
    "    Xtr = np.array(Xtr)\n",
    "\n",
    "    Ytr = []\n",
    "    for old_r in old_Ytr:\n",
    "        r = []\n",
    "        for old_e in old_r:\n",
    "            e = int(old_e)\n",
    "            r.append(e)\n",
    "        Ytr.append(r)\n",
    "    Ytr = np.array(Ytr)\n",
    "\n",
    "    Xte = []\n",
    "    for old_r in old_Xte:\n",
    "        r = []\n",
    "        for old_e in old_r:\n",
    "            e = int(old_e)\n",
    "            r.append(e)\n",
    "        Xte.append(r)\n",
    "    Xte = np.array(Xte)\n",
    "\n",
    "    Yte = []\n",
    "    for old_r in old_Yte:\n",
    "        r = []\n",
    "        for old_e in old_r:\n",
    "            e = int(old_e)\n",
    "            r.append(e)\n",
    "        Yte.append(r)\n",
    "    Yte = np.array(Yte)\n"
   ]
  },
  {
   "cell_type": "code",
   "execution_count": 3,
   "metadata": {
    "collapsed": false
   },
   "outputs": [
    {
     "name": "stdout",
     "output_type": "stream",
     "text": [
      "(1000,)\n"
     ]
    },
    {
     "ename": "ValueError",
     "evalue": "'axis' entry is out of bounds",
     "output_type": "error",
     "traceback": [
      "\u001b[0;31m---------------------------------------------------------------------------\u001b[0m",
      "\u001b[0;31mValueError\u001b[0m                                Traceback (most recent call last)",
      "\u001b[0;32m<ipython-input-3-b63a1d0e8266>\u001b[0m in \u001b[0;36m<module>\u001b[0;34m()\u001b[0m\n\u001b[1;32m     41\u001b[0m     \u001b[0;31m# we can pass our scores matrix through our activation function\u001b[0m\u001b[0;34m\u001b[0m\u001b[0;34m\u001b[0m\u001b[0m\n\u001b[1;32m     42\u001b[0m     \u001b[0;31m# in this case it will be softmax\u001b[0m\u001b[0;34m\u001b[0m\u001b[0;34m\u001b[0m\u001b[0m\n\u001b[0;32m---> 43\u001b[0;31m     \u001b[0mprobs\u001b[0m \u001b[0;34m=\u001b[0m \u001b[0mnp\u001b[0m\u001b[0;34m.\u001b[0m\u001b[0mexp\u001b[0m\u001b[0;34m(\u001b[0m\u001b[0mscores\u001b[0m\u001b[0;34m)\u001b[0m\u001b[0;34m/\u001b[0m\u001b[0mnp\u001b[0m\u001b[0;34m.\u001b[0m\u001b[0msum\u001b[0m\u001b[0;34m(\u001b[0m\u001b[0mnp\u001b[0m\u001b[0;34m.\u001b[0m\u001b[0mexp\u001b[0m\u001b[0;34m(\u001b[0m\u001b[0mscores\u001b[0m\u001b[0;34m)\u001b[0m\u001b[0;34m,\u001b[0m\u001b[0maxis\u001b[0m \u001b[0;34m=\u001b[0m \u001b[0;36m2\u001b[0m\u001b[0;34m,\u001b[0m \u001b[0mkeepdims\u001b[0m \u001b[0;34m=\u001b[0m \u001b[0mTrue\u001b[0m\u001b[0;34m)\u001b[0m\u001b[0;34m\u001b[0m\u001b[0m\n\u001b[0m\u001b[1;32m     44\u001b[0m     \u001b[0;31m# print scores\u001b[0m\u001b[0;34m\u001b[0m\u001b[0;34m\u001b[0m\u001b[0m\n\u001b[1;32m     45\u001b[0m     \u001b[0;31m# print probs\u001b[0m\u001b[0;34m\u001b[0m\u001b[0;34m\u001b[0m\u001b[0m\n",
      "\u001b[0;32m/Users/parmita/anaconda/lib/python2.7/site-packages/numpy/core/fromnumeric.pyc\u001b[0m in \u001b[0;36msum\u001b[0;34m(a, axis, dtype, out, keepdims)\u001b[0m\n\u001b[1;32m   1833\u001b[0m     \u001b[0;32melse\u001b[0m\u001b[0;34m:\u001b[0m\u001b[0;34m\u001b[0m\u001b[0m\n\u001b[1;32m   1834\u001b[0m         return _methods._sum(a, axis=axis, dtype=dtype,\n\u001b[0;32m-> 1835\u001b[0;31m                              out=out, keepdims=keepdims)\n\u001b[0m\u001b[1;32m   1836\u001b[0m \u001b[0;34m\u001b[0m\u001b[0m\n\u001b[1;32m   1837\u001b[0m \u001b[0;34m\u001b[0m\u001b[0m\n",
      "\u001b[0;32m/Users/parmita/anaconda/lib/python2.7/site-packages/numpy/core/_methods.pyc\u001b[0m in \u001b[0;36m_sum\u001b[0;34m(a, axis, dtype, out, keepdims)\u001b[0m\n\u001b[1;32m     30\u001b[0m \u001b[0;34m\u001b[0m\u001b[0m\n\u001b[1;32m     31\u001b[0m \u001b[0;32mdef\u001b[0m \u001b[0m_sum\u001b[0m\u001b[0;34m(\u001b[0m\u001b[0ma\u001b[0m\u001b[0;34m,\u001b[0m \u001b[0maxis\u001b[0m\u001b[0;34m=\u001b[0m\u001b[0mNone\u001b[0m\u001b[0;34m,\u001b[0m \u001b[0mdtype\u001b[0m\u001b[0;34m=\u001b[0m\u001b[0mNone\u001b[0m\u001b[0;34m,\u001b[0m \u001b[0mout\u001b[0m\u001b[0;34m=\u001b[0m\u001b[0mNone\u001b[0m\u001b[0;34m,\u001b[0m \u001b[0mkeepdims\u001b[0m\u001b[0;34m=\u001b[0m\u001b[0mFalse\u001b[0m\u001b[0;34m)\u001b[0m\u001b[0;34m:\u001b[0m\u001b[0;34m\u001b[0m\u001b[0m\n\u001b[0;32m---> 32\u001b[0;31m     \u001b[0;32mreturn\u001b[0m \u001b[0mumr_sum\u001b[0m\u001b[0;34m(\u001b[0m\u001b[0ma\u001b[0m\u001b[0;34m,\u001b[0m \u001b[0maxis\u001b[0m\u001b[0;34m,\u001b[0m \u001b[0mdtype\u001b[0m\u001b[0;34m,\u001b[0m \u001b[0mout\u001b[0m\u001b[0;34m,\u001b[0m \u001b[0mkeepdims\u001b[0m\u001b[0;34m)\u001b[0m\u001b[0;34m\u001b[0m\u001b[0m\n\u001b[0m\u001b[1;32m     33\u001b[0m \u001b[0;34m\u001b[0m\u001b[0m\n\u001b[1;32m     34\u001b[0m \u001b[0;32mdef\u001b[0m \u001b[0m_prod\u001b[0m\u001b[0;34m(\u001b[0m\u001b[0ma\u001b[0m\u001b[0;34m,\u001b[0m \u001b[0maxis\u001b[0m\u001b[0;34m=\u001b[0m\u001b[0mNone\u001b[0m\u001b[0;34m,\u001b[0m \u001b[0mdtype\u001b[0m\u001b[0;34m=\u001b[0m\u001b[0mNone\u001b[0m\u001b[0;34m,\u001b[0m \u001b[0mout\u001b[0m\u001b[0;34m=\u001b[0m\u001b[0mNone\u001b[0m\u001b[0;34m,\u001b[0m \u001b[0mkeepdims\u001b[0m\u001b[0;34m=\u001b[0m\u001b[0mFalse\u001b[0m\u001b[0;34m)\u001b[0m\u001b[0;34m:\u001b[0m\u001b[0;34m\u001b[0m\u001b[0m\n",
      "\u001b[0;31mValueError\u001b[0m: 'axis' entry is out of bounds"
     ]
    }
   ],
   "source": [
    "#SHORTEN THE DATA##################\n",
    "Xtr = Xtr[:1000]\n",
    "Ytr = Ytr[:1000]\n",
    "Xte = Xte[:100]\n",
    "Yte = Yte[:100]\n",
    "###################################\n",
    "\n",
    "# Here wil set up the parameters for our neural network\n",
    "N = Xtr.shape[0] # number of data points\n",
    "D = Xtr.shape[1] #Dimensionality of each datapoint\n",
    "K = 2 # Number of classes\n",
    "num_examples = N\n",
    "\n",
    "# hyperparameter\n",
    "learning_rate = 0.00001\n",
    "\n",
    "## Our data is ready:\n",
    "# I have data in X, but I don't have y\n",
    "X = Xtr\n",
    "y = np.squeeze(Ytr)\n",
    "\n",
    "print y.shape\n",
    "\n",
    "# To train a neural network, the first step is to initialize the\n",
    "# Weght matrix, which in this case will have shape\n",
    "# K by D\n",
    "W = 0.01 * np.random.randn(D,K)\n",
    "# We also need to initialize the boas vector\n",
    "b = np.zeros((1,K))\n",
    "\n",
    "for iteration in range(10000):\n",
    "    # as sanity chec, print the shapes for W and X, and make sure you can do\n",
    "    # operations with them.\n",
    "    # print W.shape, X.shape, b.shape\n",
    "\n",
    "    # let's carry out the forward pass through the softmax activation\n",
    "    scores = np.dot(X, W) + b\n",
    "\n",
    "    # print scores\n",
    "\n",
    "    # we can pass our scores matrix through our activation function\n",
    "    # in this case it will be softmax\n",
    "    probs = np.exp(scores)/np.sum(np.exp(scores),axis = 2, keepdims = True)\n",
    "    # print scores\n",
    "    # print probs\n",
    "\n",
    "    # compute the loss (this is also called the cross-entropy loss)\n",
    "    correct_probs = probs[range(num_examples),y]\n",
    "    # print range(num_examples)\n",
    "    # print probs\n",
    "    # print correct_probs\n",
    "    correct_log_probs = -np.log(correct_probs)\n",
    "    loss = np.sum(correct_log_probs)/num_examples\n",
    "    if iteration % 1000 == 0:\n",
    "        print 'the current loss, at iteration %d is: ' % iteration, loss \n",
    "\n",
    "    # WARNING: This might be tricky, math, but we'll explain it tomorrow\n",
    "    dscores = probs\n",
    "    dscores[range(num_examples),y] -= 1\n",
    "    dscores = dscores / num_examples\n",
    "\n",
    "    # backpropagate to W and b\n",
    "    dW = np.dot(X.T, dscores)\n",
    "    db = np.sum(dscores, axis = 0, keepdims = True)\n",
    "\n",
    "    # This is where magic happens\n",
    "    W = W - learning_rate * dW\n",
    "    b = b - learning_rate * db\n"
   ]
  },
  {
   "cell_type": "code",
   "execution_count": null,
   "metadata": {
    "collapsed": true
   },
   "outputs": [],
   "source": []
  }
 ],
 "metadata": {
  "kernelspec": {
   "display_name": "Python 2",
   "language": "python",
   "name": "python2"
  },
  "language_info": {
   "codemirror_mode": {
    "name": "ipython",
    "version": 2
   },
   "file_extension": ".py",
   "mimetype": "text/x-python",
   "name": "python",
   "nbconvert_exporter": "python",
   "pygments_lexer": "ipython2",
   "version": "2.7.11"
  }
 },
 "nbformat": 4,
 "nbformat_minor": 0
}
